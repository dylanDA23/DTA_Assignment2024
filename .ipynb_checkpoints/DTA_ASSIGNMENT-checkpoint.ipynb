{
 "cells": [
  {
   "cell_type": "markdown",
   "metadata": {},
   "source": [
    "# Data Analytics Assignment 2024"
   ]
  },
  {
   "cell_type": "markdown",
   "metadata": {},
   "source": [
    "## 1. Problem statement:"
   ]
  },
  {
   "cell_type": "markdown",
   "metadata": {},
   "source": [
    "Can vaccination rates predict a reduction in COVID-related deaths?"
   ]
  },
  {
   "cell_type": "markdown",
   "metadata": {},
   "source": [
    "### Solution to Problem:"
   ]
  },
  {
   "cell_type": "markdown",
   "metadata": {},
   "source": [
    "To get more people vaccinated and develop an action plan incase another pandemic occurs    by presenting the evedince."
   ]
  },
  {
   "cell_type": "code",
   "execution_count": 9,
   "metadata": {},
   "outputs": [
    {
     "ename": "ModuleNotFoundError",
     "evalue": "No module named 'xgboost'",
     "output_type": "error",
     "traceback": [
      "\u001b[1;31m---------------------------------------------------------------------------\u001b[0m",
      "\u001b[1;31mModuleNotFoundError\u001b[0m                       Traceback (most recent call last)",
      "Cell \u001b[1;32mIn[9], line 33\u001b[0m\n\u001b[0;32m     30\u001b[0m \u001b[38;5;28;01mfrom\u001b[39;00m \u001b[38;5;21;01msklearn\u001b[39;00m\u001b[38;5;21;01m.\u001b[39;00m\u001b[38;5;21;01mmetrics\u001b[39;00m \u001b[38;5;28;01mimport\u001b[39;00m accuracy_score\n\u001b[0;32m     32\u001b[0m \u001b[38;5;28;01mfrom\u001b[39;00m \u001b[38;5;21;01msklearn\u001b[39;00m\u001b[38;5;21;01m.\u001b[39;00m\u001b[38;5;21;01mensemble\u001b[39;00m \u001b[38;5;28;01mimport\u001b[39;00m RandomForestRegressor\n\u001b[1;32m---> 33\u001b[0m \u001b[38;5;28;01mfrom\u001b[39;00m \u001b[38;5;21;01mxgboost\u001b[39;00m \u001b[38;5;28;01mimport\u001b[39;00m XGBRegressor\n\u001b[0;32m     34\u001b[0m \u001b[38;5;28;01mfrom\u001b[39;00m \u001b[38;5;21;01msklearn\u001b[39;00m\u001b[38;5;21;01m.\u001b[39;00m\u001b[38;5;21;01mmetrics\u001b[39;00m \u001b[38;5;28;01mimport\u001b[39;00m mean_squared_error\n\u001b[0;32m     35\u001b[0m \u001b[38;5;28;01mfrom\u001b[39;00m \u001b[38;5;21;01msklearn\u001b[39;00m\u001b[38;5;21;01m.\u001b[39;00m\u001b[38;5;21;01mmetrics\u001b[39;00m \u001b[38;5;28;01mimport\u001b[39;00m classification_report, confusion_matrix\n",
      "\u001b[1;31mModuleNotFoundError\u001b[0m: No module named 'xgboost'"
     ]
    }
   ],
   "source": [
    "#Dylan Diergaardt\n",
    "#Data handeling/modeling\n",
    "#Download the missing modules by executing the commands below:\n",
    "#pip install pandas\n",
    "#pip install numpy\n",
    "#pip install matplotlib\n",
    "#pip install scikit-learn\n",
    "#pip install pingouin\n",
    "#pip install statsmodels\n",
    "#pip install scipy\n",
    "#pip install xgboost\n",
    "import pandas as pd\n",
    "import numpy as np\n",
    "import pylab\n",
    "from sklearn.linear_model import LinearRegression\n",
    "from sklearn.model_selection import train_test_split\n",
    "from sklearn.cluster import KMeans\n",
    "from sklearn import metrics\n",
    "import scipy.stats as stats\n",
    "from sklearn.metrics import mean_absolute_error\n",
    "from sklearn.metrics import mean_squared_error, mean_absolute_error, r2_score\n",
    "\n",
    "from scipy.stats import f\n",
    "# import pingouin as pg\n",
    "import statsmodels.api as sm\n",
    "\n",
    "\n",
    "from sklearn.linear_model import LogisticRegression\n",
    "from sklearn.ensemble import RandomForestClassifier\n",
    "from sklearn.metrics import accuracy_score\n",
    "\n",
    "from sklearn.ensemble import RandomForestRegressor\n",
    "# from xgboost import XGBRegressor\n",
    "from sklearn.metrics import mean_squared_error\n",
    "from sklearn.metrics import classification_report, confusion_matrix\n",
    "from sklearn.svm import SVC\n",
    "\n",
    "# visualization\n",
    "%matplotlib inline\n",
    "import seaborn as sns\n",
    "import matplotlib.pyplot as plt\n",
    "from mpl_toolkits.mplot3d import Axes3D"
   ]
  },
  {
   "cell_type": "markdown",
   "metadata": {},
   "source": [
    "## 2. Load Data set\n",
    " \n",
    " This dataset provides information on the global COVID-19 vaccination efforts and their potential impact on COVID-19 mortality rates. It includes data for various countries, capturing the number of vaccinations, the number of people vaccinated, and the number of new deaths reported."
   ]
  },
  {
   "cell_type": "code",
   "execution_count": null,
   "metadata": {},
   "outputs": [],
   "source": [
    "covid19_data = pd.read_csv(r\"covid-vaccination-vs-death_ratio.csv\")"
   ]
  },
  {
   "cell_type": "code",
   "execution_count": null,
   "metadata": {},
   "outputs": [],
   "source": [
    "covid19_data"
   ]
  },
  {
   "cell_type": "markdown",
   "metadata": {},
   "source": [
    "# 3. Data Cleaning Process"
   ]
  },
  {
   "cell_type": "markdown",
   "metadata": {},
   "source": [
    "### 3.1 Remove unamed columns\n",
    "\n",
    "Remove any unnecesary columns"
   ]
  },
  {
   "cell_type": "code",
   "execution_count": null,
   "metadata": {},
   "outputs": [],
   "source": [
    "# Remove the 'Unnamed: 0' column if it exists\n",
    "if 'Unnamed: 0' in covid19_data.columns:\n",
    "    covid19_data = covid19_data.drop(columns=['Unnamed: 0'])"
   ]
  },
  {
   "cell_type": "code",
   "execution_count": null,
   "metadata": {},
   "outputs": [],
   "source": [
    "covid19_data"
   ]
  },
  {
   "cell_type": "markdown",
   "metadata": {},
   "source": [
    "### 3.2 Check for any missing/null data\n",
    "Check for any empty values within the data set"
   ]
  },
  {
   "cell_type": "code",
   "execution_count": null,
   "metadata": {},
   "outputs": [],
   "source": [
    "# Check for missing data\n",
    "missing_data = covid19_data.isnull().sum()\n",
    "print(missing_data)"
   ]
  },
  {
   "cell_type": "markdown",
   "metadata": {},
   "source": [
    "## 3.3 Handle Vaccination Data Logical Errors\n",
    "\n",
    "Ensure that people_fully_vaccinated is not greater than people_vaccinated, and people_vaccinated is not greater than total_vaccinations"
   ]
  },
  {
   "cell_type": "code",
   "execution_count": null,
   "metadata": {},
   "outputs": [],
   "source": [
    "# Filter out rows for 'people_fully_vaccinated' , 'people_vaccinated' and\n",
    "# 'total_vaccinations'\n",
    "filtered_columns = covid19_data[['people_fully_vaccinated', 'people_vaccinated', 'total_vaccinations']]\n",
    "\n",
    "# Check if there are any rows  where 'people_fully_vaccinated' > 'people_vaccinated'\n",
    "fully_vaccinated_errors = filtered_columns[filtered_columns['people_fully_vaccinated'] > filtered_columns['people_vaccinated']]\n",
    "\n",
    "# Check if there are any rows left  'people_vaccinated' > 'total_vaccinations'\n",
    "vaccinated_errors = filtered_columns[filtered_columns['people_vaccinated'] > filtered_columns['total_vaccinations']]\n",
    "\n",
    "# If these are empty, the filter was successful and there is no logical errors in the data\n",
    "print(f\"Rows with 'people_fully_vaccinated' > 'people_vaccinated' after filtering: {len(fully_vaccinated_errors)}\")\n",
    "print(f\"Rows with 'people_vaccinated' > 'total_vaccinations' after filtering: {len(vaccinated_errors)}\")\n",
    "\n",
    "# Display the problematic rows if there are any for review\n",
    "print(fully_vaccinated_errors)\n",
    "print(vaccinated_errors)\n",
    "\n"
   ]
  },
  {
   "cell_type": "markdown",
   "metadata": {},
   "source": [
    "## 3.4 Check for duplicate row values \n",
    "Ensure that no country is recorded twice on the same day"
   ]
  },
  {
   "cell_type": "code",
   "execution_count": null,
   "metadata": {},
   "outputs": [],
   "source": [
    "# Check for duplicate rows based on country and date combination\n",
    "duplicate_rows = covid19_data[covid19_data.duplicated(subset=['country', 'date'], keep=False)]\n",
    "print(duplicate_rows)"
   ]
  },
  {
   "cell_type": "markdown",
   "metadata": {},
   "source": [
    "## 3.5 Data Transformation : creating new variables, converting variable types, or rescaling variables."
   ]
  },
  {
   "cell_type": "code",
   "execution_count": null,
   "metadata": {},
   "outputs": [],
   "source": [
    "# Convert the 'date' column to datetime\n",
    "# For pandas to correctly interperate the date column if need be for any time based operations\n",
    "covid19_data['date'] = pd.to_datetime(covid19_data['date'], errors='coerce')  # 'errors=coerce' handles invalid formats\n",
    "print(covid19_data['date'].dtype)"
   ]
  },
  {
   "cell_type": "code",
   "execution_count": null,
   "metadata": {},
   "outputs": [],
   "source": [
    " ##Ensure numerical columns are properly formatted\n",
    "numerical_columns = ['total_vaccinations', 'people_vaccinated', 'people_fully_vaccinated', 'New_deaths', 'population']\n",
    "# Handle NaN values (e.g., fill NaN with 0 or any other value before conversion)\n",
    "covid19_data[numerical_columns] = covid19_data[numerical_columns].fillna(0)\n",
    "\n",
    "# Convert to integer values\n",
    "covid19_data[numerical_columns] = covid19_data[numerical_columns].astype('int64')\n",
    "\n"
   ]
  },
  {
   "cell_type": "code",
   "execution_count": null,
   "metadata": {},
   "outputs": [],
   "source": [
    "# Convert categorical columns (e.g., country, iso_code) to 'category' type\n",
    "covid19_data['country'] = covid19_data['country'].astype('category')\n",
    "covid19_data['iso_code'] = covid19_data['iso_code'].astype('category')"
   ]
  },
  {
   "cell_type": "code",
   "execution_count": null,
   "metadata": {},
   "outputs": [],
   "source": [
    "# Print to check all of your data types are correct\n",
    "print(\"Current data types:\\n\", covid19_data.dtypes)\n"
   ]
  },
  {
   "cell_type": "code",
   "execution_count": null,
   "metadata": {},
   "outputs": [],
   "source": [
    "# Recalculate the 'ratio' in a different column and correct any discrepancies\n",
    "covid19_data['calculated_ratio'] = (covid19_data['people_vaccinated'] / covid19_data['population']) * 100\n"
   ]
  },
  {
   "cell_type": "code",
   "execution_count": null,
   "metadata": {},
   "outputs": [],
   "source": [
    "# Calculate the difference\n",
    "difference = covid19_data['calculated_ratio'] - covid19_data['ratio']\n",
    "\n",
    "#Check for differences that are greater than a small tolerance (e.g., 1e-6)\n",
    "tolerance = 1e-6\n",
    "discrepancies = covid19_data[difference > tolerance]\n",
    "\n",
    "# Print or inspect the discrepancies\n",
    "if discrepancies.empty:\n",
    "    print(\"All values in 'calculated_ratio' match the 'ratio' column.\")\n",
    "else:\n",
    "    print(\"There are discrepancies in the following rows:\")\n",
    "    print(discrepancies[['calculated_ratio', 'ratio']])"
   ]
  },
  {
   "cell_type": "code",
   "execution_count": null,
   "metadata": {},
   "outputs": [],
   "source": [
    "pd.set_option('display.precision', 10) "
   ]
  },
  {
   "cell_type": "code",
   "execution_count": null,
   "metadata": {},
   "outputs": [],
   "source": [
    "#Confirm ratio values are consitent with calculated ratio\n",
    "row_values = covid19_data.loc[25, ['calculated_ratio', 'ratio']]\n",
    "print(row_values)\n",
    "display_columns2 = ['ratio','calculated_ratio']\n",
    "\n",
    "covid19_data[display_columns2].head(30)"
   ]
  },
  {
   "cell_type": "code",
   "execution_count": null,
   "metadata": {},
   "outputs": [],
   "source": [
    "#Replace the 'ratio' and drop the calculated ratio c\n",
    "covid19_data['ratio'] = covid19_data['calculated_ratio']\n",
    "covid19_data = covid19_data.drop(columns=['calculated_ratio'])"
   ]
  },
  {
   "cell_type": "code",
   "execution_count": null,
   "metadata": {},
   "outputs": [],
   "source": [
    "covid19_data.head(30)"
   ]
  },
  {
   "cell_type": "markdown",
   "metadata": {},
   "source": [
    "## 3.6 Identifying Outliers that could skew data analysis"
   ]
  },
  {
   "cell_type": "code",
   "execution_count": null,
   "metadata": {},
   "outputs": [],
   "source": [
    "\n",
    "\n",
    "# Function to detect outliers using IQR and return them\n",
    "def detect_outliers_iqr(data, column):\n",
    "    Q1 = data[column].quantile(0.25)\n",
    "    Q3 = data[column].quantile(0.75)\n",
    "    IQR = Q3 - Q1\n",
    "    lower_bound = Q1 - 1.5 * IQR\n",
    "    upper_bound = Q3 + 1.5 * IQR\n",
    "\n",
    "      # Print the lower and upper bounds\n",
    "    print(f\"For column: {column}\")\n",
    "    print(f\"Q1 (25th percentile): {Q1}\")\n",
    "    print(f\"Q3 (75th percentile): {Q3}\")\n",
    "    print(f\"IQR: {IQR}\")\n",
    "    print(f\"Lower Bound: {lower_bound}\")\n",
    "    print(f\"Upper Bound: {upper_bound}\\n\")\n",
    "    \n",
    "    # Identify the outliers\n",
    "    outliers = covid19_data[(covid19_data[column] < lower_bound) | (covid19_data[column] > upper_bound)]\n",
    "    return outliers\n",
    "\n",
    "# List of columns to check for outliers\n",
    "columns_to_check = ['total_vaccinations', 'people_vaccinated', 'people_fully_vaccinated', 'New_deaths', 'ratio']\n",
    "\n",
    "# Loop through the columns to detect and display bounds and outliers\n",
    "for col in columns_to_check:\n",
    "    # Detect outliers and print lower/upper bounds\n",
    "    outliers = detect_outliers_iqr(covid19_data, col)\n",
    "    \n",
    "    # Print the number of outliers detected\n",
    "    print(f\"Number of outliers detected in column {col}: {len(outliers)}\")\n",
    "    if len(outliers) > 0:\n",
    "        print(\"Outliers:\")\n",
    "        print(outliers)\n",
    "    else:\n",
    "        print(f\"No outliers found in {col}.\\n\")\n",
    "  \n"
   ]
  },
  {
   "cell_type": "code",
   "execution_count": null,
   "metadata": {},
   "outputs": [],
   "source": [
    "# List of columns of interest\n",
    "columns_of_interest = ['total_vaccinations', 'people_vaccinated', 'people_fully_vaccinated', 'New_deaths']\n",
    "\n",
    "# Create a box plot\n",
    "plt.figure(figsize=(12, 6))\n",
    "sns.boxplot(data=covid19_data[columns_of_interest])\n",
    "plt.title('Box Plot of Vaccination and Death Counts')\n",
    "plt.ylabel('Counts')\n",
    "plt.xticks(rotation=45)\n",
    "plt.show()\n",
    "# please give feedback"
   ]
  },
  {
   "cell_type": "code",
   "execution_count": null,
   "metadata": {},
   "outputs": [],
   "source": []
  }
 ],
 "metadata": {
  "kernelspec": {
   "display_name": "Python 3 (ipykernel)",
   "language": "python",
   "name": "python3"
  },
  "language_info": {
   "codemirror_mode": {
    "name": "ipython",
    "version": 3
   },
   "file_extension": ".py",
   "mimetype": "text/x-python",
   "name": "python",
   "nbconvert_exporter": "python",
   "pygments_lexer": "ipython3",
   "version": "3.12.4"
  }
 },
 "nbformat": 4,
 "nbformat_minor": 4
}
