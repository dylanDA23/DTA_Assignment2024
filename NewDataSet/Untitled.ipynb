{
 "cells": [
  {
   "cell_type": "code",
   "execution_count": 1,
   "id": "6f5bb6ce-6b3e-4ecf-bde4-191b91651a26",
   "metadata": {},
   "outputs": [],
   "source": [
    "import pandas as pd"
   ]
  },
  {
   "cell_type": "code",
   "execution_count": null,
   "id": "ff18af70-40b9-4b72-b096-989bc61fddf2",
   "metadata": {},
   "outputs": [],
   "source": [
    "# Use the full file path if the file is in a different location\n",
    "stdData = pd.read_csv('path_to_your_file/StudentPerformanceFactors.csv')\n"
   ]
  }
 ],
 "metadata": {
  "kernelspec": {
   "display_name": "Python 3 (ipykernel)",
   "language": "python",
   "name": "python3"
  },
  "language_info": {
   "codemirror_mode": {
    "name": "ipython",
    "version": 3
   },
   "file_extension": ".py",
   "mimetype": "text/x-python",
   "name": "python",
   "nbconvert_exporter": "python",
   "pygments_lexer": "ipython3",
   "version": "3.12.4"
  }
 },
 "nbformat": 4,
 "nbformat_minor": 5
}
